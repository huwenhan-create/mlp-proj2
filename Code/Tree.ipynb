{
 "cells": [
  {
   "cell_type": "markdown",
   "metadata": {},
   "source": [
    "# Tree Model"
   ]
  },
  {
   "cell_type": "markdown",
   "metadata": {},
   "source": [
    "## First section\r\n",
    "In this section, import the necessary libraries"
   ]
  },
  {
   "cell_type": "code",
   "execution_count": 1,
   "metadata": {},
   "outputs": [],
   "source": [
    "# array and data\r\n",
    "import numpy as np\r\n",
    "import pandas as pd\r\n",
    "\r\n",
    "# plot\r\n",
    "import matplotlib.pyplot as plt\r\n",
    "import seaborn as sns\r\n",
    "\r\n",
    "# sklearn\r\n",
    "from sklearn.compose import ColumnTransformer\r\n",
    "from sklearn.compose import make_column_transformer, make_column_selector\r\n",
    "from sklearn.model_selection import GridSearchCV, RandomizedSearchCV, KFold, StratifiedKFold, train_test_split\r\n",
    "from sklearn.preprocessing import StandardScaler, OneHotEncoder\r\n",
    "from sklearn.ensemble import RandomForestClassifier, VotingClassifier\r\n",
    "from sklearn.metrics import confusion_matrix, precision_score, recall_score, f1_score, accuracy_score, make_scorer, classification_report\r\n",
    "from sklearn.tree import plot_tree\r\n"
   ]
  },
  {
   "cell_type": "markdown",
   "metadata": {},
   "source": [
    "## Second section: Dataset\r\n",
    "\r\n",
    "These data come from the booking systems of two real hotels and reflect bookings made between July 1st, 2015 through August 31st 2017.\r\n",
    "\r\n",
    "If customers booked the orders, the hotel need to reserve the rooms and guarantee that these room is not occupied in the booked day for them and before arriving, the customers are allowed to cancel the orders. The hotels will suffer from the potential loss when an order canceled. Study on the reason why customers cancel their reservation should be drived from the hotel itself and the different information of the customers.\r\n",
    "\r\n",
    "- The hotel suffer losses if there are some reservation canceled.\r\n",
    "- The customers choose to cancel the books which is motivated by certain reasons reflected in the data.\r\n"
   ]
  },
  {
   "cell_type": "code",
   "execution_count": 2,
   "metadata": {},
   "outputs": [
    {
     "data": {
      "text/html": "<div>\n<style scoped>\n    .dataframe tbody tr th:only-of-type {\n        vertical-align: middle;\n    }\n\n    .dataframe tbody tr th {\n        vertical-align: top;\n    }\n\n    .dataframe thead th {\n        text-align: right;\n    }\n</style>\n<table border=\"1\" class=\"dataframe\">\n  <thead>\n    <tr style=\"text-align: right;\">\n      <th></th>\n      <th>is_canceled</th>\n      <th>hotel</th>\n      <th>lead_time</th>\n      <th>arrival_date_year</th>\n      <th>arrival_date_month</th>\n      <th>arrival_date_week_number</th>\n      <th>arrival_date_day_of_month</th>\n      <th>stays_in_weekend_nights</th>\n      <th>stays_in_week_nights</th>\n      <th>adults</th>\n      <th>...</th>\n      <th>assigned_room_type</th>\n      <th>booking_changes</th>\n      <th>deposit_type</th>\n      <th>agent</th>\n      <th>company</th>\n      <th>days_in_waiting_list</th>\n      <th>customer_type</th>\n      <th>adr</th>\n      <th>required_car_parking_spaces</th>\n      <th>total_of_special_requests</th>\n    </tr>\n  </thead>\n  <tbody>\n    <tr>\n      <th>0</th>\n      <td>0</td>\n      <td>Resort Hotel</td>\n      <td>342</td>\n      <td>2015</td>\n      <td>July</td>\n      <td>27</td>\n      <td>1</td>\n      <td>0</td>\n      <td>0</td>\n      <td>2</td>\n      <td>...</td>\n      <td>C</td>\n      <td>3</td>\n      <td>No Deposit</td>\n      <td>NaN</td>\n      <td>NaN</td>\n      <td>0</td>\n      <td>Transient</td>\n      <td>0.0</td>\n      <td>0</td>\n      <td>0</td>\n    </tr>\n    <tr>\n      <th>1</th>\n      <td>0</td>\n      <td>Resort Hotel</td>\n      <td>737</td>\n      <td>2015</td>\n      <td>July</td>\n      <td>27</td>\n      <td>1</td>\n      <td>0</td>\n      <td>0</td>\n      <td>2</td>\n      <td>...</td>\n      <td>C</td>\n      <td>4</td>\n      <td>No Deposit</td>\n      <td>NaN</td>\n      <td>NaN</td>\n      <td>0</td>\n      <td>Transient</td>\n      <td>0.0</td>\n      <td>0</td>\n      <td>0</td>\n    </tr>\n    <tr>\n      <th>2</th>\n      <td>0</td>\n      <td>Resort Hotel</td>\n      <td>7</td>\n      <td>2015</td>\n      <td>July</td>\n      <td>27</td>\n      <td>1</td>\n      <td>0</td>\n      <td>1</td>\n      <td>1</td>\n      <td>...</td>\n      <td>C</td>\n      <td>0</td>\n      <td>No Deposit</td>\n      <td>NaN</td>\n      <td>NaN</td>\n      <td>0</td>\n      <td>Transient</td>\n      <td>75.0</td>\n      <td>0</td>\n      <td>0</td>\n    </tr>\n    <tr>\n      <th>3</th>\n      <td>0</td>\n      <td>Resort Hotel</td>\n      <td>13</td>\n      <td>2015</td>\n      <td>July</td>\n      <td>27</td>\n      <td>1</td>\n      <td>0</td>\n      <td>1</td>\n      <td>1</td>\n      <td>...</td>\n      <td>A</td>\n      <td>0</td>\n      <td>No Deposit</td>\n      <td>304.0</td>\n      <td>NaN</td>\n      <td>0</td>\n      <td>Transient</td>\n      <td>75.0</td>\n      <td>0</td>\n      <td>0</td>\n    </tr>\n    <tr>\n      <th>4</th>\n      <td>0</td>\n      <td>Resort Hotel</td>\n      <td>14</td>\n      <td>2015</td>\n      <td>July</td>\n      <td>27</td>\n      <td>1</td>\n      <td>0</td>\n      <td>2</td>\n      <td>2</td>\n      <td>...</td>\n      <td>A</td>\n      <td>0</td>\n      <td>No Deposit</td>\n      <td>240.0</td>\n      <td>NaN</td>\n      <td>0</td>\n      <td>Transient</td>\n      <td>98.0</td>\n      <td>0</td>\n      <td>1</td>\n    </tr>\n  </tbody>\n</table>\n<p>5 rows × 30 columns</p>\n</div>",
      "text/plain": "   is_canceled         hotel  lead_time  arrival_date_year arrival_date_month  \\\n0            0  Resort Hotel        342               2015               July   \n1            0  Resort Hotel        737               2015               July   \n2            0  Resort Hotel          7               2015               July   \n3            0  Resort Hotel         13               2015               July   \n4            0  Resort Hotel         14               2015               July   \n\n   arrival_date_week_number  arrival_date_day_of_month  \\\n0                        27                          1   \n1                        27                          1   \n2                        27                          1   \n3                        27                          1   \n4                        27                          1   \n\n   stays_in_weekend_nights  stays_in_week_nights  adults  ...  \\\n0                        0                     0       2  ...   \n1                        0                     0       2  ...   \n2                        0                     1       1  ...   \n3                        0                     1       1  ...   \n4                        0                     2       2  ...   \n\n   assigned_room_type  booking_changes deposit_type  agent company  \\\n0                   C                3   No Deposit    NaN     NaN   \n1                   C                4   No Deposit    NaN     NaN   \n2                   C                0   No Deposit    NaN     NaN   \n3                   A                0   No Deposit  304.0     NaN   \n4                   A                0   No Deposit  240.0     NaN   \n\n  days_in_waiting_list  customer_type   adr  required_car_parking_spaces  \\\n0                    0      Transient   0.0                            0   \n1                    0      Transient   0.0                            0   \n2                    0      Transient  75.0                            0   \n3                    0      Transient  75.0                            0   \n4                    0      Transient  98.0                            0   \n\n  total_of_special_requests  \n0                         0  \n1                         0  \n2                         0  \n3                         0  \n4                         1  \n\n[5 rows x 30 columns]"
     },
     "execution_count": 2,
     "metadata": {},
     "output_type": "execute_result"
    }
   ],
   "source": [
    "df = pd.read_csv(r'D:\\Edinburgh-Learn\\MLIP\\mlp-proj2-mlp-proj2\\Code\\Data\\hotel.csv')  # These variables are showed that have no relationship with the outcome of interest\r\n",
    "df.head()"
   ]
  },
  {
   "cell_type": "code",
   "execution_count": 4,
   "metadata": {},
   "outputs": [
    {
     "name": "stdout",
     "output_type": "stream",
     "text": [
      "the original information entropy is 0.95\n"
     ]
    }
   ],
   "source": [
    "p = df['is_canceled'].sum()/df.shape[0]\r\n",
    "Ent = -p*np.log2(p)-(1-p)*np.log2(1-p)\r\n",
    "print('the original information entropy is %0.2f'%Ent)"
   ]
  },
  {
   "cell_type": "markdown",
   "metadata": {},
   "source": [
    "### Data Pre\r\n",
    "There are too many features in our data, and we need to do some feature extraction and engineering to make it easy to model.\r\n",
    "\r\n",
    "- Drop the `company`: `Company` has too much missing values, over 90%, and so, we drop this feature directly.\r\n",
    "- Drop the `arrival_date_year`: There are three years data, but if we plot it with the probability of the canceled reservations, we will find it has no relationship with the outcome of interest\r\n",
    "- Drop the `arrival_date_month`: This feature is dominated by the `arrival_date_week_number`, and the skitlearn prefer the numeric features.\r\n",
    "- Transform the `reserved_room_type` and `assigned_room_type`: Assign a new feature and it is 1 if the reserved and assigned are same ortherwise it is 0\r\n",
    "- Keep all the numeric features: Tree-based method require use use the float features."
   ]
  },
  {
   "cell_type": "markdown",
   "metadata": {},
   "source": [
    "Because this data is from real and have missing value and unneccesary features, we need to tidy our data and do some pre-study. First, we tackle those missing values by deleting the feature or imputing by certain values."
   ]
  },
  {
   "cell_type": "code",
   "execution_count": 5,
   "metadata": {},
   "outputs": [
    {
     "data": {
      "text/plain": "company    0.943069\ndtype: float64"
     },
     "execution_count": 5,
     "metadata": {},
     "output_type": "execute_result"
    }
   ],
   "source": [
    "# ----Find the missing values----\r\n",
    "missing = df.isna().apply(np.sum, axis=0)\r\n",
    "# {children:4/0.000034, country:488/0.004087, agent:16340/0.136862, company:112593/0.943069}\r\n",
    "missing[missing != 0]/119390"
   ]
  },
  {
   "cell_type": "markdown",
   "metadata": {},
   "source": [
    "As we can see, the `company` loss 94% recoed (or don't have), and so, we just drop this feature because it can't provide enough information for our study. Then, we impute the `children` and `country` by their mode value and impute `agent` by 0 (means no agent)."
   ]
  },
  {
   "cell_type": "code",
   "execution_count": 6,
   "metadata": {},
   "outputs": [],
   "source": [
    "# [1]. Children: only 4 missing value (nearly no effect on result after impute them by using mode)\r\n",
    "children = df.loc[:, 'children']\r\n",
    "children = children.fillna(0)\r\n",
    "\r\n",
    "\r\n",
    "# [2]. agent: we regard the missing value as one of the attributes and take it into account.\r\n",
    "#             Here, we just replace them of 'none':str\r\n",
    "agent = df.loc[:, 'agent'].replace(np.nan, 0)\r\n",
    "\r\n",
    "# [3]. country: Same as the children, we choose the mode to impute the data\r\n",
    "country = df.loc[:, 'country']\r\n",
    "country = country.fillna('PRT')\r\n",
    "\r\n",
    "# [4]. company: Because there are too many missing values, we choose to drop this variable out.\r\n",
    "# Fianlly, we get the final data\r\n",
    "imputed = pd.concat([children, agent, country], axis=1)\r\n",
    "df.loc[:, ['children', 'agent', 'country']] = imputed.values"
   ]
  },
  {
   "cell_type": "markdown",
   "metadata": {},
   "source": [
    "Do some association analysis to explore the relative features. Tho goal fo this step is to reduce the dimensions of our data for implement of later tree based method"
   ]
  },
  {
   "cell_type": "code",
   "execution_count": 7,
   "metadata": {},
   "outputs": [
    {
     "data": {
      "image/png": "[encoded data removed]",
      "text/plain": "<Figure size 432x288 with 1 Axes>"
     },
     "metadata": {
      "needs_background": "light"
     },
     "output_type": "display_data"
    }
   ],
   "source": [
    "def univ_analysis_one(target: str, plot, data, axes, log=False):\r\n",
    "    \"\"\"This function is used to do some univ_analysis: If we grouped by the target variables,\r\n",
    "    We can calculate the frenquency of the happens of canceled books. Return the prob matrix and\r\n",
    "    visualize it\r\n",
    "    \r\n",
    "\r\n",
    "    Args:\r\n",
    "        target (str): the target variable\r\n",
    "        plot (bool): If plot=True, we plot the bars, or we will not plot\r\n",
    "        data (DataFrame): The data we used\r\n",
    "\r\n",
    "    Returns:\r\n",
    "        prob_taget: The probability of the book will be canceled if in different status of the target\r\n",
    "        variable.\r\n",
    "    \"\"\"\r\n",
    "    _target = data.loc[:, ['is_canceled', target]]\r\n",
    "    group_target = _target.groupby(by=target)\r\n",
    "    cancel_target = group_target.sum()\r\n",
    "    total_target = group_target.size()\r\n",
    "    prob_target = [int(m)/int(n)\r\n",
    "                   for m, n in zip(cancel_target.to_numpy(), total_target.to_numpy())]\r\n",
    "\r\n",
    "    if log:\r\n",
    "        log_prob_target = [np.log(p) for p in prob_target]\r\n",
    "    else:\r\n",
    "        log_prob_target = [p for p in prob_target]\r\n",
    "\r\n",
    "    if plot:\r\n",
    "        labels = list(group_target.groups.keys())\r\n",
    "        ax = axes\r\n",
    "        ax.bar(x=labels, width=0.5, height=log_prob_target,\r\n",
    "               color=['cornflowerblue'])\r\n",
    "        ax.set_title(target)\r\n",
    "    return prob_target\r\n",
    "\r\n",
    "fig = plt.figure()\r\n",
    "ax1 = fig.add_subplot(111)\r\n",
    "prob_hotel = univ_analysis_one('hotel',True, df, ax1, True)"
   ]
  },
  {
   "cell_type": "markdown",
   "metadata": {},
   "source": [
    "From the plot, we see different hotel have different probability of canceled reservation and it seem significant. This difference is caused by the hotel itself, including its sanitary conditions, facilities and other factors. For this reason, we would like to keep this variable. However, this featuere is catigorical variable, and we need to use Onehot method to encode it in order to convert it to float type."
   ]
  },
  {
   "cell_type": "code",
   "execution_count": 8,
   "metadata": {},
   "outputs": [
    {
     "data": {
      "image/png": "[encoded data removed]",
      "text/plain": "<Figure size 432x288 with 4 Axes>"
     },
     "metadata": {
      "needs_background": "light"
     },
     "output_type": "display_data"
    },
    {
     "name": "stdout",
     "output_type": "stream",
     "text": [
      "\n"
     ]
    }
   ],
   "source": [
    "fig_time = plt.figure()\r\n",
    "ax_lt = fig_time.add_subplot(221)\r\n",
    "prob_lead_time = univ_analysis_one('lead_time', True, df, ax_lt)\r\n",
    "\r\n",
    "ax2 = fig_time.add_subplot(222)\r\n",
    "prob_arrival_year = univ_analysis_one('arrival_date_year', True, df, ax2)\r\n",
    "\r\n",
    "\r\n",
    "ax3 = fig_time.add_subplot(223)\r\n",
    "prob_arrival_weeks = univ_analysis_one(\r\n",
    "    'arrival_date_week_number', True, df, ax3)  # non-linear relationship\r\n",
    "\r\n",
    "\r\n",
    "ax4 = fig_time.add_subplot(224)\r\n",
    "prob_arrival_days = univ_analysis_one(\r\n",
    "    'arrival_date_day_of_month', True, df, ax4)  # not so obvious\r\n",
    "\r\n",
    "plt.tight_layout(pad=0.4, w_pad=0.5, h_pad=1.0)\r\n",
    "plt.show()\r\n",
    "print()\r\n"
   ]
  },
  {
   "cell_type": "markdown",
   "metadata": {},
   "source": [
    "As displayed in above plots, it is obvious that `lead_time` strongly related to the outcome of interest and `arrival_date_year` can be deleted directly because there is no significant difference between different years. As for `week_number` and `day_of_month`, we can't decide their relationship with the probability of canceled reservations. So, we remain them in our model temporarily."
   ]
  },
  {
   "cell_type": "code",
   "execution_count": 9,
   "metadata": {},
   "outputs": [
    {
     "name": "stdout",
     "output_type": "stream",
     "text": [
      "children\n",
      "0.0     92.805093\n",
      "1.0      4.071530\n",
      "2.0      3.058883\n",
      "3.0      0.063657\n",
      "10.0     0.000838\n",
      "Name: is_canceled, dtype: float64\n",
      "babies\n",
      "0     99.231929\n",
      "1      0.753832\n",
      "2      0.012564\n",
      "9      0.000838\n",
      "10     0.000838\n",
      "Name: is_canceled, dtype: float64\n"
     ]
    }
   ],
   "source": [
    "adults = df.groupby(by='adults').count()['is_canceled']*100/df.shape[0]  # adults properties\r\n",
    "children = df.groupby(by='children').count()['is_canceled']*100/df.shape[0]  # children properties\r\n",
    "babies = df.groupby(by='babies').count()['is_canceled']*100/df.shape[0]  # babies properties\r\n",
    "feature_proprtyies={\r\n",
    "    \"adults\":adults,\r\n",
    "    'children':children,\r\n",
    "    'babies':babies\r\n",
    "}\r\n",
    "print('{0}\\n{1}'.format(feature_proprtyies['children'],feature_proprtyies['babies']))"
   ]
  },
  {
   "cell_type": "markdown",
   "metadata": {},
   "source": [
    "As a result, we can just ignore the effect of the number of babies because over 99% customers booked without babies and for the same reason, we also can delete the `children`."
   ]
  },
  {
   "cell_type": "code",
   "execution_count": 10,
   "metadata": {},
   "outputs": [
    {
     "name": "stdout",
     "output_type": "stream",
     "text": [
      "The information gain of meal is 0.005\n"
     ]
    },
    {
     "data": {
      "image/png": "[encoded data removed]",
      "text/plain": "<Figure size 360x360 with 1 Axes>"
     },
     "metadata": {
      "needs_background": "light"
     },
     "output_type": "display_data"
    }
   ],
   "source": [
    "# meal\r\n",
    "meal = df.groupby(by='meal').count()['is_canceled']/df.shape[0]\r\n",
    "\r\n",
    "fig = plt.figure(figsize=(5,5))\r\n",
    "ax = fig.add_subplot(111)\r\n",
    "prob_meal = univ_analysis_one('meal',True,df,ax)\r\n",
    "\r\n",
    "# Define the function to calculate the information of entropy\r\n",
    "def cal_Ent(prob:list):\r\n",
    "    ent_list=[]    \r\n",
    "    for p in prob:\r\n",
    "        if p==1 or p==0:\r\n",
    "            ent = 0\r\n",
    "        else:\r\n",
    "            ent = -p*np.log2(p)-(1-p)*np.log2(1-p)\r\n",
    "            ent = round(ent,2)\r\n",
    "        ent_list.append(ent)\r\n",
    "    return ent_list\r\n",
    "\r\n",
    "Ent_meal = cal_Ent(prob_meal)\r\n",
    "\r\n",
    "# Define the function to calculate the information gain\r\n",
    "def cal_Gain(Ent, Ent_new, prop):\r\n",
    "    Gain = []\r\n",
    "    n = len(Ent_new)\r\n",
    "    for i in range(n):\r\n",
    "        Gain.append(prop[i]*Ent_new[i])\r\n",
    "    Gain = Ent-sum(Gain)\r\n",
    "    return Gain\r\n",
    "\r\n",
    "Gain_meal = cal_Gain(Ent,Ent_meal,list(meal))\r\n",
    "print('The information gain of meal is %0.3f'%Gain_meal)\r\n"
   ]
  },
  {
   "cell_type": "markdown",
   "metadata": {},
   "source": [
    "From the plot, we can find that the customers who choose FB are more likely to cancel their reservation. However, there are only 0.6% customers pick this meal. As for other meals, there are not obvious difference between each other. In other words, this feature also don't impact the rate of canceled reservations significantly. Besides If we calculate its information gain, we can find it just is 0.004, which is so small that we can ignore it. For thes reason, we also can delete this feature."
   ]
  },
  {
   "cell_type": "code",
   "execution_count": 11,
   "metadata": {},
   "outputs": [
    {
     "name": "stdout",
     "output_type": "stream",
     "text": [
      "country\n",
      "PRT    0.411073\n",
      "GBR    0.101591\n",
      "FRA    0.087235\n",
      "ESP    0.071765\n",
      "DEU    0.061035\n",
      "Name: is_canceled, dtype: float64\n"
     ]
    }
   ],
   "source": [
    "# country\r\n",
    "country = df.groupby(by='country').count()['is_canceled']/df.shape[0]\r\n",
    "print(country.sort_values(ascending=False).head())\r\n"
   ]
  },
  {
   "cell_type": "markdown",
   "metadata": {},
   "source": [
    "We choose to delete this characteristic because it divide our feature space too small and tight. If we really want to take this factor into our account because different countries may cause different results, we can adjust its coarse. For instance, we can just devide this feature into two group: PRT and not PRT."
   ]
  },
  {
   "cell_type": "code",
   "execution_count": 12,
   "metadata": {},
   "outputs": [
    {
     "name": "stdout",
     "output_type": "stream",
     "text": [
      "The information gain of market segment is 0.669\n",
      "The information gain of distribution channel is 0.022\n"
     ]
    },
    {
     "data": {
      "image/png": "[encoded data removed]",
      "text/plain": "<Figure size 720x360 with 2 Axes>"
     },
     "metadata": {
      "needs_background": "light"
     },
     "output_type": "display_data"
    }
   ],
   "source": [
    "# market_segmrnt and distibution_channel\r\n",
    "market_segment = df.groupby(by='market_segment').count()['is_canceled']/df.shape[0]\r\n",
    "distribution_channel = df.groupby(by='distribution_channel').count()['is_canceled']/df.shape[0]\r\n",
    "\r\n",
    "fig = plt.figure(figsize=(10,5))\r\n",
    "ax = fig.add_subplot(121)\r\n",
    "prob_market = univ_analysis_one('market_segment', True, df, ax)\r\n",
    "\r\n",
    "ax = fig.add_subplot(122)\r\n",
    "prob_dist = univ_analysis_one('distribution_channel', True, df, ax)\r\n",
    "\r\n",
    "Ent_market = cal_Ent(prob_market)\r\n",
    "Gain_market = cal_Gain(Ent, Ent_meal, list(market_segment))\r\n",
    "\r\n",
    "Ent_dist = cal_Ent(prob_dist)\r\n",
    "Gain_dist = cal_Gain(Ent, Ent_dist, list(distribution_channel))\r\n",
    "print('The information gain of market segment is %0.3f' % Gain_market)\r\n",
    "print('The information gain of distribution channel is %0.3f' % Gain_dist)\r\n"
   ]
  },
  {
   "cell_type": "markdown",
   "metadata": {},
   "source": [
    "As a result, this feature effect our interest significantly because its information gain is 0.669. So, we use onehot to encode this feature."
   ]
  },
  {
   "cell_type": "code",
   "execution_count": 14,
   "metadata": {},
   "outputs": [
    {
     "data": {
      "text/html": "<div>\n<style scoped>\n    .dataframe tbody tr th:only-of-type {\n        vertical-align: middle;\n    }\n\n    .dataframe tbody tr th {\n        vertical-align: top;\n    }\n\n    .dataframe thead th {\n        text-align: right;\n    }\n</style>\n<table border=\"1\" class=\"dataframe\">\n  <thead>\n    <tr style=\"text-align: right;\">\n      <th></th>\n      <th>onthot__x0_City Hotel</th>\n      <th>onthot__x0_Resort Hotel</th>\n      <th>onthot__x1_Aviation</th>\n      <th>onthot__x1_Complementary</th>\n      <th>onthot__x1_Corporate</th>\n      <th>onthot__x1_Direct</th>\n      <th>onthot__x1_Groups</th>\n      <th>onthot__x1_Offline TA/TO</th>\n      <th>onthot__x1_Online TA</th>\n      <th>onthot__x1_Undefined</th>\n      <th>...</th>\n      <th>adults</th>\n      <th>is_repeated_guest</th>\n      <th>previous_cancellations</th>\n      <th>previous_bookings_not_canceled</th>\n      <th>booking_changes</th>\n      <th>days_in_waiting_list</th>\n      <th>adr</th>\n      <th>required_car_parking_spaces</th>\n      <th>total_of_special_requests</th>\n      <th>same_room</th>\n    </tr>\n  </thead>\n  <tbody>\n    <tr>\n      <th>0</th>\n      <td>0.0</td>\n      <td>1.0</td>\n      <td>0.0</td>\n      <td>0.0</td>\n      <td>0.0</td>\n      <td>1.0</td>\n      <td>0.0</td>\n      <td>0.0</td>\n      <td>0.0</td>\n      <td>0.0</td>\n      <td>...</td>\n      <td>2.0</td>\n      <td>0.0</td>\n      <td>0.0</td>\n      <td>0.0</td>\n      <td>3.0</td>\n      <td>0.0</td>\n      <td>0.0</td>\n      <td>0.0</td>\n      <td>0.0</td>\n      <td>1.0</td>\n    </tr>\n    <tr>\n      <th>1</th>\n      <td>0.0</td>\n      <td>1.0</td>\n      <td>0.0</td>\n      <td>0.0</td>\n      <td>0.0</td>\n      <td>1.0</td>\n      <td>0.0</td>\n      <td>0.0</td>\n      <td>0.0</td>\n      <td>0.0</td>\n      <td>...</td>\n      <td>2.0</td>\n      <td>0.0</td>\n      <td>0.0</td>\n      <td>0.0</td>\n      <td>4.0</td>\n      <td>0.0</td>\n      <td>0.0</td>\n      <td>0.0</td>\n      <td>0.0</td>\n      <td>1.0</td>\n    </tr>\n    <tr>\n      <th>2</th>\n      <td>0.0</td>\n      <td>1.0</td>\n      <td>0.0</td>\n      <td>0.0</td>\n      <td>0.0</td>\n      <td>1.0</td>\n      <td>0.0</td>\n      <td>0.0</td>\n      <td>0.0</td>\n      <td>0.0</td>\n      <td>...</td>\n      <td>1.0</td>\n      <td>0.0</td>\n      <td>0.0</td>\n      <td>0.0</td>\n      <td>0.0</td>\n      <td>0.0</td>\n      <td>75.0</td>\n      <td>0.0</td>\n      <td>0.0</td>\n      <td>0.0</td>\n    </tr>\n    <tr>\n      <th>3</th>\n      <td>0.0</td>\n      <td>1.0</td>\n      <td>0.0</td>\n      <td>0.0</td>\n      <td>1.0</td>\n      <td>0.0</td>\n      <td>0.0</td>\n      <td>0.0</td>\n      <td>0.0</td>\n      <td>0.0</td>\n      <td>...</td>\n      <td>1.0</td>\n      <td>0.0</td>\n      <td>0.0</td>\n      <td>0.0</td>\n      <td>0.0</td>\n      <td>0.0</td>\n      <td>75.0</td>\n      <td>0.0</td>\n      <td>0.0</td>\n      <td>1.0</td>\n    </tr>\n    <tr>\n      <th>4</th>\n      <td>0.0</td>\n      <td>1.0</td>\n      <td>0.0</td>\n      <td>0.0</td>\n      <td>0.0</td>\n      <td>0.0</td>\n      <td>0.0</td>\n      <td>0.0</td>\n      <td>1.0</td>\n      <td>0.0</td>\n      <td>...</td>\n      <td>2.0</td>\n      <td>0.0</td>\n      <td>0.0</td>\n      <td>0.0</td>\n      <td>0.0</td>\n      <td>0.0</td>\n      <td>98.0</td>\n      <td>0.0</td>\n      <td>1.0</td>\n      <td>1.0</td>\n    </tr>\n  </tbody>\n</table>\n<p>5 rows × 26 columns</p>\n</div>",
      "text/plain": "   onthot__x0_City Hotel  onthot__x0_Resort Hotel  onthot__x1_Aviation  \\\n0                    0.0                      1.0                  0.0   \n1                    0.0                      1.0                  0.0   \n2                    0.0                      1.0                  0.0   \n3                    0.0                      1.0                  0.0   \n4                    0.0                      1.0                  0.0   \n\n   onthot__x1_Complementary  onthot__x1_Corporate  onthot__x1_Direct  \\\n0                       0.0                   0.0                1.0   \n1                       0.0                   0.0                1.0   \n2                       0.0                   0.0                1.0   \n3                       0.0                   1.0                0.0   \n4                       0.0                   0.0                0.0   \n\n   onthot__x1_Groups  onthot__x1_Offline TA/TO  onthot__x1_Online TA  \\\n0                0.0                       0.0                   0.0   \n1                0.0                       0.0                   0.0   \n2                0.0                       0.0                   0.0   \n3                0.0                       0.0                   0.0   \n4                0.0                       0.0                   1.0   \n\n   onthot__x1_Undefined  ...  adults  is_repeated_guest  \\\n0                   0.0  ...     2.0                0.0   \n1                   0.0  ...     2.0                0.0   \n2                   0.0  ...     1.0                0.0   \n3                   0.0  ...     1.0                0.0   \n4                   0.0  ...     2.0                0.0   \n\n   previous_cancellations  previous_bookings_not_canceled  booking_changes  \\\n0                     0.0                             0.0              3.0   \n1                     0.0                             0.0              4.0   \n2                     0.0                             0.0              0.0   \n3                     0.0                             0.0              0.0   \n4                     0.0                             0.0              0.0   \n\n   days_in_waiting_list   adr  required_car_parking_spaces  \\\n0                   0.0   0.0                          0.0   \n1                   0.0   0.0                          0.0   \n2                   0.0  75.0                          0.0   \n3                   0.0  75.0                          0.0   \n4                   0.0  98.0                          0.0   \n\n   total_of_special_requests  same_room  \n0                        0.0        1.0  \n1                        0.0        1.0  \n2                        0.0        0.0  \n3                        0.0        1.0  \n4                        1.0        1.0  \n\n[5 rows x 26 columns]"
     },
     "execution_count": 14,
     "metadata": {},
     "output_type": "execute_result"
    }
   ],
   "source": [
    "# Transform\r\n",
    "# Convert the reserved room and the assigned room\r\n",
    "res_room, ass_room = df.loc[:,\r\n",
    "                            'reserved_room_type'], df.loc[:, 'assigned_room_type']\r\n",
    "same_room = []\r\n",
    "for i, j in zip(res_room, ass_room):\r\n",
    "    if i == j:\r\n",
    "        same_room.append(1)\r\n",
    "    else:\r\n",
    "        same_room.append(0)\r\n",
    "df['same_room'] = same_room\r\n",
    "\r\n",
    "ct = ColumnTransformer(\r\n",
    "    [\r\n",
    "        ('drop_feat', 'drop', ['company', 'arrival_date_year','arrival_date_month','agent','babies','children','meal','country','reserved_room_type','assigned_room_type',\r\n",
    "        'deposit_type','customer_type','distribution_channel']),\r\n",
    "        ('onthot',OneHotEncoder(),['hotel','market_segment'])\r\n",
    "    ],\r\n",
    "    remainder='passthrough'\r\n",
    ")\r\n",
    "\r\n",
    "ct.fit(df)\r\n",
    "names = ct.get_feature_names()\r\n",
    "dataset = pd.DataFrame(ct.transform(df), columns=names)\r\n",
    "dataset.head()"
   ]
  },
  {
   "cell_type": "markdown",
   "metadata": {},
   "source": [
    "## Second section: Model\r\n",
    "In this section, we choose tree-base model to explore the reason why people choose to cancel their reservations.\r\n",
    "\r\n",
    "### Data Split\r\n",
    "\r\n",
    "The first step is to split our data into train and test part."
   ]
  },
  {
   "cell_type": "code",
   "execution_count": 15,
   "metadata": {},
   "outputs": [],
   "source": [
    "# Data split\r\n",
    "X = dataset.drop(['is_canceled'],axis=1)\r\n",
    "y = dataset['is_canceled']\r\n",
    "X_train, X_test, y_train, y_test = train_test_split(X,y,test_size=0.2, random_state=123)"
   ]
  },
  {
   "cell_type": "code",
   "execution_count": 18,
   "metadata": {},
   "outputs": [
    {
     "data": {
      "text/plain": "onthot__x0_City Hotel             float64\nonthot__x0_Resort Hotel           float64\nonthot__x1_Aviation               float64\nonthot__x1_Complementary          float64\nonthot__x1_Corporate              float64\nonthot__x1_Direct                 float64\nonthot__x1_Groups                 float64\nonthot__x1_Offline TA/TO          float64\nonthot__x1_Online TA              float64\nonthot__x1_Undefined              float64\nis_canceled                       float64\nlead_time                         float64\narrival_date_week_number          float64\narrival_date_day_of_month         float64\nstays_in_weekend_nights           float64\nstays_in_week_nights              float64\nadults                            float64\nis_repeated_guest                 float64\nprevious_cancellations            float64\nprevious_bookings_not_canceled    float64\nbooking_changes                   float64\ndays_in_waiting_list              float64\nadr                               float64\nrequired_car_parking_spaces       float64\ntotal_of_special_requests         float64\nsame_room                         float64\ndtype: object"
     },
     "execution_count": 18,
     "metadata": {},
     "output_type": "execute_result"
    }
   ],
   "source": [
    "dataset.dtypes"
   ]
  },
  {
   "cell_type": "markdown",
   "metadata": {},
   "source": [
    "### Random Forest Model\r\n",
    "In this section, we try to establish the random forest modle to achieve the goal of our study"
   ]
  },
  {
   "cell_type": "code",
   "execution_count": 14,
   "metadata": {},
   "outputs": [],
   "source": [
    "# Find hyper search\r\n",
    "def hyper_search(model, params, X, y, save_path, n_iter=60, metric=\"accuracy\",\r\n",
    "                 cv=KFold(5), random_state=42, refit=True,\r\n",
    "                 overwrite=False, warning=False, verbose=0):\r\n",
    "    if os.path.exists(save_path) and overwrite == False:\r\n",
    "        #load the model\r\n",
    "        models = joblib.load(save_path)\r\n",
    "    else:\r\n",
    "        # check all param inputs are lists\r\n",
    "        if all(type(x) == list for x in params.values()):\r\n",
    "            search_type = \"Gridsearch\"\r\n",
    "            models = GridSearchCV(model, param_grid=params, scoring=metric, cv=cv,\r\n",
    "                                  refit=refit, return_train_score=True, verbose=verbose)\r\n",
    "            n_iter = len(list(itertools.product(*list(iter(params.values())))))\r\n",
    "        else:\r\n",
    "            search_type = \"Randomsearch\"\r\n",
    "            if verbose > 0:\r\n",
    "                print(\"Starting \"+search_type)\r\n",
    "            models = RandomizedSearchCV(model, param_distributions=params,\r\n",
    "                                        n_iter=n_iter, scoring=metric, cv=cv,\r\n",
    "                                        refit=refit, random_state=random_state,\r\n",
    "                                        return_train_score=True, verbose=verbose)\r\n",
    "\r\n",
    "        start = time()\r\n",
    "        if warning:\r\n",
    "            models.fit(X, y)\r\n",
    "        else:\r\n",
    "            with warnings.catch_warnings():\r\n",
    "                warnings.simplefilter(\"ignore\")\r\n",
    "                models.fit(X, y)\r\n",
    "\r\n",
    "        if verbose > 0:\r\n",
    "            print(search_type + \" took %.2f seconds for %d candidates\" %\r\n",
    "                  ((time() - start), n_iter))\r\n",
    "        joblib.dump(models, save_path)\r\n",
    "\r\n",
    "    return models\r\n"
   ]
  },
  {
   "cell_type": "code",
   "execution_count": 17,
   "metadata": {},
   "outputs": [
    {
     "data": {
      "text/plain": "onthot__x0_City Hotel             float64\nonthot__x0_Resort Hotel           float64\nonthot__x1_Aviation               float64\nonthot__x1_Complementary          float64\nonthot__x1_Corporate              float64\nonthot__x1_Direct                 float64\nonthot__x1_Groups                 float64\nonthot__x1_Offline TA/TO          float64\nonthot__x1_Online TA              float64\nonthot__x1_Undefined              float64\nlead_time                         float64\narrival_date_week_number          float64\narrival_date_day_of_month         float64\nstays_in_weekend_nights           float64\nstays_in_week_nights              float64\nadults                            float64\nis_repeated_guest                 float64\nprevious_cancellations            float64\nprevious_bookings_not_canceled    float64\nbooking_changes                   float64\ndays_in_waiting_list              float64\nadr                               float64\nrequired_car_parking_spaces       float64\ntotal_of_special_requests         float64\nsame_room                         float64\ndtype: object"
     },
     "execution_count": 17,
     "metadata": {},
     "output_type": "execute_result"
    }
   ],
   "source": [
    "X_train.dtypes"
   ]
  },
  {
   "cell_type": "code",
   "execution_count": 16,
   "metadata": {},
   "outputs": [
    {
     "data": {
      "text/plain": "0.8636611106457828"
     },
     "execution_count": 16,
     "metadata": {},
     "output_type": "execute_result"
    }
   ],
   "source": [
    "# Ceate the Model\r\n",
    "RF = RandomForestClassifier(criterion='gini', n_estimators = 100, random_state=123, oob_score=True,n_jobs=-1)\r\n",
    "RF.fit(X_train, y_train)\r\n",
    "RF.oob_score_"
   ]
  },
  {
   "cell_type": "code",
   "execution_count": 16,
   "metadata": {},
   "outputs": [
    {
     "data": {
      "text/html": "<div>\n<style scoped>\n    .dataframe tbody tr th:only-of-type {\n        vertical-align: middle;\n    }\n\n    .dataframe tbody tr th {\n        vertical-align: top;\n    }\n\n    .dataframe thead th {\n        text-align: right;\n    }\n</style>\n<table border=\"1\" class=\"dataframe\">\n  <thead>\n    <tr style=\"text-align: right;\">\n      <th></th>\n      <th>0</th>\n      <th>1</th>\n      <th>accuracy</th>\n      <th>macro avg</th>\n      <th>weighted avg</th>\n    </tr>\n  </thead>\n  <tbody>\n    <tr>\n      <th>precision</th>\n      <td>0.87</td>\n      <td>0.86</td>\n      <td>0.87</td>\n      <td>0.86</td>\n      <td>0.87</td>\n    </tr>\n    <tr>\n      <th>recall</th>\n      <td>0.93</td>\n      <td>0.76</td>\n      <td>0.87</td>\n      <td>0.84</td>\n      <td>0.87</td>\n    </tr>\n    <tr>\n      <th>f1-score</th>\n      <td>0.90</td>\n      <td>0.81</td>\n      <td>0.87</td>\n      <td>0.85</td>\n      <td>0.86</td>\n    </tr>\n    <tr>\n      <th>support</th>\n      <td>15051.00</td>\n      <td>8827.00</td>\n      <td>0.87</td>\n      <td>23878.00</td>\n      <td>23878.00</td>\n    </tr>\n  </tbody>\n</table>\n</div>",
      "text/plain": "                  0        1  accuracy  macro avg  weighted avg\nprecision      0.87     0.86      0.87       0.86          0.87\nrecall         0.93     0.76      0.87       0.84          0.87\nf1-score       0.90     0.81      0.87       0.85          0.86\nsupport    15051.00  8827.00      0.87   23878.00      23878.00"
     },
     "execution_count": 16,
     "metadata": {},
     "output_type": "execute_result"
    }
   ],
   "source": [
    "report = pd.DataFrame(classification_report(y_test,\r\n",
    "                                            RF.predict(X_test),\r\n",
    "                                            labels=None,\r\n",
    "                                            target_names=[0,1],\r\n",
    "                                            sample_weight=None,\r\n",
    "                                            digits=2,\r\n",
    "                                            output_dict=True)).round(2)\r\n",
    "report\r\n"
   ]
  },
  {
   "cell_type": "code",
   "execution_count": 17,
   "metadata": {},
   "outputs": [
    {
     "name": "stdout",
     "output_type": "stream",
     "text": [
      "0.8660273054694698\n"
     ]
    },
    {
     "data": {
      "image/png": "[encoded data removed]",
      "text/plain": "<Figure size 360x360 with 1 Axes>"
     },
     "metadata": {
      "needs_background": "light"
     },
     "output_type": "display_data"
    }
   ],
   "source": [
    "print(accuracy_score(y_test,RF.predict(X_test)))\r\n",
    "\r\n",
    "# get the importances for the features\r\n",
    "rf_importances = RF.feature_importances_\r\n",
    "\r\n",
    "rf_importances_series = pd.Series(rf_importances,index=X.columns).sort_index(ascending = False)\r\n",
    "\r\n",
    "# plot the important features\r\n",
    "fig = plt.figure(figsize=(5,5))\r\n",
    "axes = fig.add_subplot(111)\r\n",
    "rf_importances_series.plot.barh(legend =False, grid=False, ax=axes)\r\n",
    "axes.set_title('Random Forest')\r\n",
    "plt.tight_layout()"
   ]
  },
  {
   "cell_type": "code",
   "execution_count": 18,
   "metadata": {},
   "outputs": [
    {
     "data": {
      "text/plain": "lead_time                    0.208408\nadr                          0.146668\narrival_date_week_number     0.101670\narrival_date_day_of_month    0.096616\ntotal_of_special_requests    0.081055\ndtype: float64"
     },
     "execution_count": 18,
     "metadata": {},
     "output_type": "execute_result"
    }
   ],
   "source": [
    "# Simplify our model\r\n",
    "rf_importances_series.sort_values(ascending=False).head()"
   ]
  },
  {
   "cell_type": "markdown",
   "metadata": {},
   "source": [
    "As displayed above, we just choose these 5 features to build our tree model."
   ]
  },
  {
   "cell_type": "code",
   "execution_count": 19,
   "metadata": {},
   "outputs": [],
   "source": [
    "# Define the final dataset\r\n",
    "Final_data = dataset.loc[:,['lead_time','adr','arrival_date_week_number','arrival_date_day_of_month','total_of_special_requests']]\r\n"
   ]
  },
  {
   "cell_type": "markdown",
   "metadata": {},
   "source": [
    "## Third section: Model tunning\r\n",
    "\r\n",
    "In this question, we need to tune our model and we use `GridSearch()` to find the best parameters for our model."
   ]
  },
  {
   "cell_type": "code",
   "execution_count": 20,
   "metadata": {},
   "outputs": [],
   "source": [
    "# Find the best model\r\n",
    "gs_rf = GridSearchCV(\r\n",
    "    RandomForestClassifier(),\r\n",
    "    {\r\n",
    "        'max_depth':range(3,8),\r\n",
    "        'max_features':range(4,10),\r\n",
    "    },\r\n",
    "    cv=KFold(5,shuffle=True,random_state=123)\r\n",
    ").fit(X_train, y_train)"
   ]
  },
  {
   "cell_type": "code",
   "execution_count": 21,
   "metadata": {},
   "outputs": [
    {
     "data": {
      "text/plain": "RandomForestClassifier(max_depth=7, max_features=4)"
     },
     "execution_count": 21,
     "metadata": {},
     "output_type": "execute_result"
    }
   ],
   "source": [
    "# Best estimater\r\n",
    "gs_rf.best_estimator_"
   ]
  },
  {
   "cell_type": "markdown",
   "metadata": {},
   "source": [
    "The best estimater is max_depth=7 and max_features=4."
   ]
  },
  {
   "cell_type": "code",
   "execution_count": 25,
   "metadata": {},
   "outputs": [
    {
     "data": {
      "text/html": "<div>\n<style scoped>\n    .dataframe tbody tr th:only-of-type {\n        vertical-align: middle;\n    }\n\n    .dataframe tbody tr th {\n        vertical-align: top;\n    }\n\n    .dataframe thead th {\n        text-align: right;\n    }\n</style>\n<table border=\"1\" class=\"dataframe\">\n  <thead>\n    <tr style=\"text-align: right;\">\n      <th></th>\n      <th>0</th>\n      <th>1</th>\n      <th>accuracy</th>\n      <th>macro avg</th>\n      <th>weighted avg</th>\n    </tr>\n  </thead>\n  <tbody>\n    <tr>\n      <th>precision</th>\n      <td>0.80</td>\n      <td>0.78</td>\n      <td>0.79</td>\n      <td>0.79</td>\n      <td>0.79</td>\n    </tr>\n    <tr>\n      <th>recall</th>\n      <td>0.90</td>\n      <td>0.62</td>\n      <td>0.79</td>\n      <td>0.76</td>\n      <td>0.79</td>\n    </tr>\n    <tr>\n      <th>f1-score</th>\n      <td>0.85</td>\n      <td>0.69</td>\n      <td>0.79</td>\n      <td>0.77</td>\n      <td>0.79</td>\n    </tr>\n    <tr>\n      <th>support</th>\n      <td>15051.00</td>\n      <td>8827.00</td>\n      <td>0.79</td>\n      <td>23878.00</td>\n      <td>23878.00</td>\n    </tr>\n  </tbody>\n</table>\n</div>",
      "text/plain": "                  0        1  accuracy  macro avg  weighted avg\nprecision      0.80     0.78      0.79       0.79          0.79\nrecall         0.90     0.62      0.79       0.76          0.79\nf1-score       0.85     0.69      0.79       0.77          0.79\nsupport    15051.00  8827.00      0.79   23878.00      23878.00"
     },
     "execution_count": 25,
     "metadata": {},
     "output_type": "execute_result"
    }
   ],
   "source": [
    "y_pred = gs_rf.predict(X_test)\r\n",
    "report = pd.DataFrame(classification_report(y_test,\r\n",
    "                                            y_pred,\r\n",
    "                                            labels=None,\r\n",
    "                                            target_names=[0, 1],\r\n",
    "                                            sample_weight=None,\r\n",
    "                                            digits=2,\r\n",
    "                                            output_dict=True)).round(2)\r\n",
    "report\r\n"
   ]
  },
  {
   "cell_type": "markdown",
   "metadata": {},
   "source": [
    "For canceld reservation, we can't predict very accurately whereas the prediction of un-canceled reservation is nice."
   ]
  },
  {
   "cell_type": "code",
   "execution_count": 22,
   "metadata": {},
   "outputs": [],
   "source": [
    "# plot_trees = 3\r\n",
    "# fig, axes = plt.subplots(ncols=plot_trees, figsize=(10, 5))\r\n",
    "# with plt.style.context(\"classic\"):\r\n",
    "#     for i in range(plot_trees):\r\n",
    "#         plt.sca(axes[i])\r\n",
    "#         plot_tree(RF.estimators_[i],\r\n",
    "#                   feature_names=X.columns,\r\n",
    "#                   class_names='is_canceled',\r\n",
    "#                   filled=True)\r\n",
    "#     plt.show()"
   ]
  }
 ],
 "metadata": {
  "kernelspec": {
   "display_name": "Python 3.7.7 64-bit",
   "name": "python37764bit8e0a1e0d03a0460e8a03cdc99e0cc022"
  },
  "language_info": {
   "name": "python",
   "version": ""
  },
  "metadata": {
   "interpreter": {
    "hash": "447fb23058b70573e627dd5d588ab11ba5b58f5c4364b00b8b9a3ef40c40dccf"
   }
  },
  "orig_nbformat": 2
 },
 "nbformat": 4,
 "nbformat_minor": 2
}